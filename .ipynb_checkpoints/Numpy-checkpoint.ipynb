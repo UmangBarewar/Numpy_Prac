{
 "cells": [
  {
   "cell_type": "markdown",
   "id": "32538c34",
   "metadata": {},
   "source": [
    "## Numpy"
   ]
  },
  {
   "cell_type": "code",
   "execution_count": 3,
   "id": "591b3217",
   "metadata": {},
   "outputs": [],
   "source": [
    "import numpy as np"
   ]
  },
  {
   "cell_type": "code",
   "execution_count": 4,
   "id": "a66f1623",
   "metadata": {},
   "outputs": [],
   "source": [
    "ones=np.ones((4,2))"
   ]
  },
  {
   "cell_type": "code",
   "execution_count": 5,
   "id": "120acf52",
   "metadata": {},
   "outputs": [
    {
     "data": {
      "text/plain": [
       "array([[1., 1.],\n",
       "       [1., 1.],\n",
       "       [1., 1.],\n",
       "       [1., 1.]])"
      ]
     },
     "execution_count": 5,
     "metadata": {},
     "output_type": "execute_result"
    }
   ],
   "source": [
    "ones"
   ]
  },
  {
   "cell_type": "code",
   "execution_count": 6,
   "id": "513d9835",
   "metadata": {},
   "outputs": [
    {
     "data": {
      "text/plain": [
       "numpy.ndarray"
      ]
     },
     "execution_count": 6,
     "metadata": {},
     "output_type": "execute_result"
    }
   ],
   "source": [
    "type(ones)"
   ]
  },
  {
   "cell_type": "code",
   "execution_count": 7,
   "id": "805766d4",
   "metadata": {},
   "outputs": [],
   "source": [
    "zeros=np.zeros((4,3,4))"
   ]
  },
  {
   "cell_type": "code",
   "execution_count": 8,
   "id": "ff340006",
   "metadata": {},
   "outputs": [
    {
     "data": {
      "text/plain": [
       "array([[[0., 0., 0., 0.],\n",
       "        [0., 0., 0., 0.],\n",
       "        [0., 0., 0., 0.]],\n",
       "\n",
       "       [[0., 0., 0., 0.],\n",
       "        [0., 0., 0., 0.],\n",
       "        [0., 0., 0., 0.]],\n",
       "\n",
       "       [[0., 0., 0., 0.],\n",
       "        [0., 0., 0., 0.],\n",
       "        [0., 0., 0., 0.]],\n",
       "\n",
       "       [[0., 0., 0., 0.],\n",
       "        [0., 0., 0., 0.],\n",
       "        [0., 0., 0., 0.]]])"
      ]
     },
     "execution_count": 8,
     "metadata": {},
     "output_type": "execute_result"
    }
   ],
   "source": [
    "zeros"
   ]
  },
  {
   "cell_type": "code",
   "execution_count": 9,
   "id": "4b1469df",
   "metadata": {},
   "outputs": [
    {
     "data": {
      "text/plain": [
       "(4, 3, 4)"
      ]
     },
     "execution_count": 9,
     "metadata": {},
     "output_type": "execute_result"
    }
   ],
   "source": [
    "zeros.shape"
   ]
  },
  {
   "cell_type": "code",
   "execution_count": 10,
   "id": "267b8377",
   "metadata": {},
   "outputs": [
    {
     "data": {
      "text/plain": [
       "dtype('float64')"
      ]
     },
     "execution_count": 10,
     "metadata": {},
     "output_type": "execute_result"
    }
   ],
   "source": [
    "zeros.dtype"
   ]
  },
  {
   "cell_type": "code",
   "execution_count": 11,
   "id": "92687ee9",
   "metadata": {},
   "outputs": [
    {
     "data": {
      "text/plain": [
       "3"
      ]
     },
     "execution_count": 11,
     "metadata": {},
     "output_type": "execute_result"
    }
   ],
   "source": [
    "zeros.ndim"
   ]
  },
  {
   "cell_type": "code",
   "execution_count": 12,
   "id": "d6231ca0",
   "metadata": {},
   "outputs": [
    {
     "data": {
      "text/plain": [
       "array([2, 4, 6, 8])"
      ]
     },
     "execution_count": 12,
     "metadata": {},
     "output_type": "execute_result"
    }
   ],
   "source": [
    "range_array = np.arange(2,10,2)\n",
    "range_array"
   ]
  },
  {
   "cell_type": "code",
   "execution_count": 13,
   "id": "d982a723",
   "metadata": {},
   "outputs": [
    {
     "data": {
      "text/plain": [
       "array([[[8, 8],\n",
       "        [6, 2],\n",
       "        [8, 7],\n",
       "        [2, 1],\n",
       "        [5, 4]],\n",
       "\n",
       "       [[4, 5],\n",
       "        [7, 3],\n",
       "        [6, 4],\n",
       "        [3, 7],\n",
       "        [6, 1]],\n",
       "\n",
       "       [[3, 5],\n",
       "        [8, 4],\n",
       "        [6, 3],\n",
       "        [9, 2],\n",
       "        [0, 4]]])"
      ]
     },
     "execution_count": 13,
     "metadata": {},
     "output_type": "execute_result"
    }
   ],
   "source": [
    "np.random.seed(seed=2)\n",
    "rand_array=np.random.randint(0,10,size=(3,5,2))\n",
    "rand_array"
   ]
  },
  {
   "cell_type": "code",
   "execution_count": 14,
   "id": "6ff39cfc",
   "metadata": {},
   "outputs": [
    {
     "data": {
      "text/plain": [
       "(3, 5, 2)"
      ]
     },
     "execution_count": 14,
     "metadata": {},
     "output_type": "execute_result"
    }
   ],
   "source": [
    "rand_array.shape"
   ]
  },
  {
   "cell_type": "code",
   "execution_count": 15,
   "id": "535adbd5",
   "metadata": {},
   "outputs": [
    {
     "data": {
      "text/plain": [
       "3"
      ]
     },
     "execution_count": 15,
     "metadata": {},
     "output_type": "execute_result"
    }
   ],
   "source": [
    "rand_array.ndim"
   ]
  },
  {
   "cell_type": "code",
   "execution_count": 16,
   "id": "d91a3d40",
   "metadata": {},
   "outputs": [
    {
     "data": {
      "text/plain": [
       "30"
      ]
     },
     "execution_count": 16,
     "metadata": {},
     "output_type": "execute_result"
    }
   ],
   "source": [
    "rand_array.size"
   ]
  },
  {
   "cell_type": "code",
   "execution_count": 17,
   "id": "d9c0136e",
   "metadata": {},
   "outputs": [
    {
     "data": {
      "text/plain": [
       "array([], shape=(0, 10), dtype=float64)"
      ]
     },
     "execution_count": 17,
     "metadata": {},
     "output_type": "execute_result"
    }
   ],
   "source": [
    "rand_array1=np.random.rand(0,10)\n",
    "rand_array1"
   ]
  },
  {
   "cell_type": "code",
   "execution_count": 18,
   "id": "9b98dec0",
   "metadata": {},
   "outputs": [
    {
     "data": {
      "text/plain": [
       "0.5967453089785958"
      ]
     },
     "execution_count": 18,
     "metadata": {},
     "output_type": "execute_result"
    }
   ],
   "source": [
    "rand_array2=np.random.random()\n",
    "rand_array2"
   ]
  },
  {
   "cell_type": "code",
   "execution_count": 19,
   "id": "aeffcb09",
   "metadata": {},
   "outputs": [
    {
     "data": {
      "text/plain": [
       "array([[[[2, 4, 1, 7, 8],\n",
       "         [2, 9, 8, 7, 1]],\n",
       "\n",
       "        [[6, 8, 5, 9, 9],\n",
       "         [9, 3, 0, 0, 2]],\n",
       "\n",
       "        [[8, 8, 2, 9, 6],\n",
       "         [5, 6, 6, 6, 3]],\n",
       "\n",
       "        [[8, 2, 1, 4, 8],\n",
       "         [1, 6, 9, 5, 1]],\n",
       "\n",
       "        [[2, 4, 7, 6, 4],\n",
       "         [5, 8, 3, 0, 0]]],\n",
       "\n",
       "\n",
       "       [[[5, 7, 5, 0, 8],\n",
       "         [6, 5, 1, 7, 4]],\n",
       "\n",
       "        [[3, 6, 1, 4, 0],\n",
       "         [8, 5, 4, 2, 9]],\n",
       "\n",
       "        [[7, 1, 9, 2, 1],\n",
       "         [0, 7, 1, 8, 9]],\n",
       "\n",
       "        [[0, 7, 0, 5, 2],\n",
       "         [5, 1, 3, 3, 1]],\n",
       "\n",
       "        [[8, 6, 8, 1, 5],\n",
       "         [7, 0, 9, 1, 5]]],\n",
       "\n",
       "\n",
       "       [[[9, 2, 0, 0, 4],\n",
       "         [6, 3, 1, 8, 5]],\n",
       "\n",
       "        [[9, 5, 4, 2, 7],\n",
       "         [8, 7, 3, 4, 8]],\n",
       "\n",
       "        [[6, 3, 8, 8, 5],\n",
       "         [1, 3, 3, 3, 2]],\n",
       "\n",
       "        [[6, 5, 5, 2, 5],\n",
       "         [6, 1, 5, 0, 5]],\n",
       "\n",
       "        [[4, 8, 3, 7, 5],\n",
       "         [9, 4, 5, 2, 6]]]])"
      ]
     },
     "execution_count": 19,
     "metadata": {},
     "output_type": "execute_result"
    }
   ],
   "source": [
    "rand_array2=np.random.randint(0,10,size=(3,5,2,5))\n",
    "rand_array2"
   ]
  },
  {
   "cell_type": "code",
   "execution_count": 20,
   "id": "150303f7",
   "metadata": {},
   "outputs": [
    {
     "data": {
      "text/plain": [
       "array([[[[9, 2],\n",
       "         [6, 3]],\n",
       "\n",
       "        [[9, 5],\n",
       "         [8, 7]],\n",
       "\n",
       "        [[6, 3],\n",
       "         [1, 3]],\n",
       "\n",
       "        [[6, 5],\n",
       "         [6, 1]],\n",
       "\n",
       "        [[4, 8],\n",
       "         [9, 4]]]])"
      ]
     },
     "execution_count": 20,
     "metadata": {},
     "output_type": "execute_result"
    }
   ],
   "source": [
    "rand_array2[2:3, :, :, : 2]"
   ]
  },
  {
   "cell_type": "code",
   "execution_count": 21,
   "id": "25dc30ba",
   "metadata": {},
   "outputs": [],
   "source": [
    "massive_array=np.random.random(1000)\n"
   ]
  },
  {
   "cell_type": "code",
   "execution_count": 22,
   "id": "5a1bd0b1",
   "metadata": {},
   "outputs": [
    {
     "data": {
      "text/plain": [
       "1000"
      ]
     },
     "execution_count": 22,
     "metadata": {},
     "output_type": "execute_result"
    }
   ],
   "source": [
    "massive_array.size"
   ]
  },
  {
   "cell_type": "code",
   "execution_count": 24,
   "id": "4d13b6a5",
   "metadata": {},
   "outputs": [
    {
     "data": {
      "text/plain": [
       "array([0.81278195, 0.54587271, 0.01827003, 0.01611026, 0.93503573,\n",
       "       0.39058568, 0.91065551, 0.81946537, 0.09037037, 0.35824031])"
      ]
     },
     "execution_count": 24,
     "metadata": {},
     "output_type": "execute_result"
    }
   ],
   "source": [
    "massive_array[:10]"
   ]
  },
  {
   "cell_type": "markdown",
   "id": "a41db626",
   "metadata": {},
   "source": [
    "## timeit function is used for timing for runnin any line of code in python. its magic option that runs only in jupyter notebook"
   ]
  },
  {
   "cell_type": "code",
   "execution_count": 26,
   "id": "f16502e6",
   "metadata": {},
   "outputs": [
    {
     "name": "stdout",
     "output_type": "stream",
     "text": [
      "64.6 µs ± 348 ns per loop (mean ± std. dev. of 7 runs, 10,000 loops each)\n",
      "3.75 µs ± 53.3 ns per loop (mean ± std. dev. of 7 runs, 100,000 loops each)\n"
     ]
    }
   ],
   "source": [
    "%timeit sum(massive_array) #python's sum\n",
    "%timeit np.sum(massive_array) #numpy's sum"
   ]
  },
  {
   "cell_type": "code",
   "execution_count": null,
   "id": "63314d28",
   "metadata": {},
   "outputs": [],
   "source": []
  }
 ],
 "metadata": {
  "kernelspec": {
   "display_name": "Python 3 (ipykernel)",
   "language": "python",
   "name": "python3"
  },
  "language_info": {
   "codemirror_mode": {
    "name": "ipython",
    "version": 3
   },
   "file_extension": ".py",
   "mimetype": "text/x-python",
   "name": "python",
   "nbconvert_exporter": "python",
   "pygments_lexer": "ipython3",
   "version": "3.10.13"
  }
 },
 "nbformat": 4,
 "nbformat_minor": 5
}
